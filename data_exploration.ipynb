{
 "cells": [
  {
   "cell_type": "code",
   "execution_count": 120,
   "metadata": {},
   "outputs": [],
   "source": [
    "# import libraries\n",
    "import numpy as np\n",
    "import pandas as pd\n",
    "import matplotlib.pyplot as plt\n",
    "import seaborn as sns"
   ]
  },
  {
   "cell_type": "code",
   "execution_count": 121,
   "metadata": {},
   "outputs": [],
   "source": [
    "# loading data\n",
    "df = pd.read_csv(\"data.csv\")"
   ]
  },
  {
   "cell_type": "code",
   "execution_count": 122,
   "metadata": {},
   "outputs": [
    {
     "data": {
      "text/html": [
       "<div>\n",
       "<style scoped>\n",
       "    .dataframe tbody tr th:only-of-type {\n",
       "        vertical-align: middle;\n",
       "    }\n",
       "\n",
       "    .dataframe tbody tr th {\n",
       "        vertical-align: top;\n",
       "    }\n",
       "\n",
       "    .dataframe thead th {\n",
       "        text-align: right;\n",
       "    }\n",
       "</style>\n",
       "<table border=\"1\" class=\"dataframe\">\n",
       "  <thead>\n",
       "    <tr style=\"text-align: right;\">\n",
       "      <th></th>\n",
       "      <th>order_id</th>\n",
       "      <th>Teriyaki Steak</th>\n",
       "      <th>Maryland Fried Chicken</th>\n",
       "      <th>Hot Crab Dip</th>\n",
       "      <th>Lemon Squares</th>\n",
       "      <th>Chicken Paprika</th>\n",
       "      <th>Shrimp Pineapple Fried Rice</th>\n",
       "      <th>Easy Oven Baked Potatoes</th>\n",
       "      <th>Chicken With Pineapple</th>\n",
       "      <th>Orange-Poppy Seed Pound Cake</th>\n",
       "      <th>...</th>\n",
       "      <th>Spinach Salad with Avocado</th>\n",
       "      <th>Pea Salad</th>\n",
       "      <th>Chili Chicken</th>\n",
       "      <th>Eggplant Rollatini</th>\n",
       "      <th>Prune Nut Bars</th>\n",
       "      <th>Green Beans Salerno</th>\n",
       "      <th>Pasta Primavera</th>\n",
       "      <th>Savory Chicken Casserole</th>\n",
       "      <th>day_time</th>\n",
       "      <th>food_prep_time_minutes</th>\n",
       "    </tr>\n",
       "  </thead>\n",
       "  <tbody>\n",
       "    <tr>\n",
       "      <td>0</td>\n",
       "      <td>2d11489f-919c-436d-8e7d-e25df44d9dfb</td>\n",
       "      <td>0</td>\n",
       "      <td>0</td>\n",
       "      <td>0</td>\n",
       "      <td>0</td>\n",
       "      <td>0</td>\n",
       "      <td>0</td>\n",
       "      <td>0</td>\n",
       "      <td>0</td>\n",
       "      <td>0</td>\n",
       "      <td>...</td>\n",
       "      <td>0</td>\n",
       "      <td>0</td>\n",
       "      <td>0</td>\n",
       "      <td>0</td>\n",
       "      <td>0</td>\n",
       "      <td>0</td>\n",
       "      <td>0</td>\n",
       "      <td>0</td>\n",
       "      <td>9/3/2019 10:56</td>\n",
       "      <td>13</td>\n",
       "    </tr>\n",
       "    <tr>\n",
       "      <td>1</td>\n",
       "      <td>a747fe55-7bb0-4877-b080-9a3f89855c02</td>\n",
       "      <td>0</td>\n",
       "      <td>1</td>\n",
       "      <td>0</td>\n",
       "      <td>0</td>\n",
       "      <td>0</td>\n",
       "      <td>0</td>\n",
       "      <td>0</td>\n",
       "      <td>1</td>\n",
       "      <td>0</td>\n",
       "      <td>...</td>\n",
       "      <td>0</td>\n",
       "      <td>0</td>\n",
       "      <td>0</td>\n",
       "      <td>0</td>\n",
       "      <td>0</td>\n",
       "      <td>0</td>\n",
       "      <td>3</td>\n",
       "      <td>0</td>\n",
       "      <td>9/4/2019 21:59</td>\n",
       "      <td>38</td>\n",
       "    </tr>\n",
       "    <tr>\n",
       "      <td>2</td>\n",
       "      <td>9688cb3c-57a0-4e23-b10b-c674e346cce5</td>\n",
       "      <td>0</td>\n",
       "      <td>0</td>\n",
       "      <td>1</td>\n",
       "      <td>0</td>\n",
       "      <td>0</td>\n",
       "      <td>0</td>\n",
       "      <td>0</td>\n",
       "      <td>0</td>\n",
       "      <td>2</td>\n",
       "      <td>...</td>\n",
       "      <td>0</td>\n",
       "      <td>0</td>\n",
       "      <td>0</td>\n",
       "      <td>0</td>\n",
       "      <td>0</td>\n",
       "      <td>0</td>\n",
       "      <td>0</td>\n",
       "      <td>0</td>\n",
       "      <td>9/4/2019 12:50</td>\n",
       "      <td>24</td>\n",
       "    </tr>\n",
       "    <tr>\n",
       "      <td>3</td>\n",
       "      <td>a042f8e6-d433-4229-8b6b-304a1c14df98</td>\n",
       "      <td>0</td>\n",
       "      <td>0</td>\n",
       "      <td>0</td>\n",
       "      <td>0</td>\n",
       "      <td>0</td>\n",
       "      <td>0</td>\n",
       "      <td>0</td>\n",
       "      <td>0</td>\n",
       "      <td>0</td>\n",
       "      <td>...</td>\n",
       "      <td>0</td>\n",
       "      <td>0</td>\n",
       "      <td>0</td>\n",
       "      <td>0</td>\n",
       "      <td>0</td>\n",
       "      <td>0</td>\n",
       "      <td>0</td>\n",
       "      <td>0</td>\n",
       "      <td>9/5/2019 20:48</td>\n",
       "      <td>14</td>\n",
       "    </tr>\n",
       "    <tr>\n",
       "      <td>4</td>\n",
       "      <td>fe4918d7-6e23-4605-8158-e5a89afc0614</td>\n",
       "      <td>0</td>\n",
       "      <td>0</td>\n",
       "      <td>0</td>\n",
       "      <td>0</td>\n",
       "      <td>0</td>\n",
       "      <td>0</td>\n",
       "      <td>0</td>\n",
       "      <td>0</td>\n",
       "      <td>0</td>\n",
       "      <td>...</td>\n",
       "      <td>0</td>\n",
       "      <td>0</td>\n",
       "      <td>0</td>\n",
       "      <td>0</td>\n",
       "      <td>0</td>\n",
       "      <td>0</td>\n",
       "      <td>0</td>\n",
       "      <td>0</td>\n",
       "      <td>9/5/2019 14:06</td>\n",
       "      <td>25</td>\n",
       "    </tr>\n",
       "  </tbody>\n",
       "</table>\n",
       "<p>5 rows × 93 columns</p>\n",
       "</div>"
      ],
      "text/plain": [
       "                               order_id  Teriyaki Steak  \\\n",
       "0  2d11489f-919c-436d-8e7d-e25df44d9dfb               0   \n",
       "1  a747fe55-7bb0-4877-b080-9a3f89855c02               0   \n",
       "2  9688cb3c-57a0-4e23-b10b-c674e346cce5               0   \n",
       "3  a042f8e6-d433-4229-8b6b-304a1c14df98               0   \n",
       "4  fe4918d7-6e23-4605-8158-e5a89afc0614               0   \n",
       "\n",
       "   Maryland Fried Chicken  Hot Crab Dip  Lemon Squares  Chicken Paprika  \\\n",
       "0                       0             0              0                0   \n",
       "1                       1             0              0                0   \n",
       "2                       0             1              0                0   \n",
       "3                       0             0              0                0   \n",
       "4                       0             0              0                0   \n",
       "\n",
       "   Shrimp Pineapple Fried Rice  Easy Oven Baked Potatoes  \\\n",
       "0                            0                         0   \n",
       "1                            0                         0   \n",
       "2                            0                         0   \n",
       "3                            0                         0   \n",
       "4                            0                         0   \n",
       "\n",
       "   Chicken With Pineapple  Orange-Poppy Seed Pound Cake  ...  \\\n",
       "0                       0                             0  ...   \n",
       "1                       1                             0  ...   \n",
       "2                       0                             2  ...   \n",
       "3                       0                             0  ...   \n",
       "4                       0                             0  ...   \n",
       "\n",
       "   Spinach Salad with Avocado  Pea Salad  Chili Chicken  Eggplant Rollatini  \\\n",
       "0                           0          0              0                   0   \n",
       "1                           0          0              0                   0   \n",
       "2                           0          0              0                   0   \n",
       "3                           0          0              0                   0   \n",
       "4                           0          0              0                   0   \n",
       "\n",
       "   Prune Nut Bars  Green Beans Salerno  Pasta Primavera  \\\n",
       "0               0                    0                0   \n",
       "1               0                    0                3   \n",
       "2               0                    0                0   \n",
       "3               0                    0                0   \n",
       "4               0                    0                0   \n",
       "\n",
       "   Savory Chicken Casserole        day_time  food_prep_time_minutes  \n",
       "0                         0  9/3/2019 10:56                      13  \n",
       "1                         0  9/4/2019 21:59                      38  \n",
       "2                         0  9/4/2019 12:50                      24  \n",
       "3                         0  9/5/2019 20:48                      14  \n",
       "4                         0  9/5/2019 14:06                      25  \n",
       "\n",
       "[5 rows x 93 columns]"
      ]
     },
     "execution_count": 122,
     "metadata": {},
     "output_type": "execute_result"
    }
   ],
   "source": [
    "df.head(5)"
   ]
  },
  {
   "cell_type": "markdown",
   "metadata": {},
   "source": [
    "The dataset gives the order ID, the menue items present in each order, and the date of the order was placed. The last column is the time required to process the order."
   ]
  },
  {
   "cell_type": "code",
   "execution_count": 123,
   "metadata": {},
   "outputs": [
    {
     "data": {
      "text/plain": [
       "order_id                    object\n",
       "Teriyaki Steak               int64\n",
       "Maryland Fried Chicken       int64\n",
       "Hot Crab Dip                 int64\n",
       "Lemon Squares                int64\n",
       "                             ...  \n",
       "Green Beans Salerno          int64\n",
       "Pasta Primavera              int64\n",
       "Savory Chicken Casserole     int64\n",
       "day_time                    object\n",
       "food_prep_time_minutes       int64\n",
       "Length: 93, dtype: object"
      ]
     },
     "execution_count": 123,
     "metadata": {},
     "output_type": "execute_result"
    }
   ],
   "source": [
    "df.dtypes"
   ]
  },
  {
   "cell_type": "code",
   "execution_count": 124,
   "metadata": {},
   "outputs": [],
   "source": [
    "df['day_time'] = pd.to_datetime(df['day_time']) "
   ]
  },
  {
   "cell_type": "code",
   "execution_count": 125,
   "metadata": {},
   "outputs": [
    {
     "data": {
      "text/plain": [
       "dtype('<M8[ns]')"
      ]
     },
     "execution_count": 125,
     "metadata": {},
     "output_type": "execute_result"
    }
   ],
   "source": [
    "df['day_time'].dtypes"
   ]
  },
  {
   "cell_type": "code",
   "execution_count": 126,
   "metadata": {},
   "outputs": [
    {
     "name": "stdout",
     "output_type": "stream",
     "text": [
      "2019-09-01 00:00:00 2019-09-07 23:59:00\n"
     ]
    }
   ],
   "source": [
    "print(df['day_time'].min(), df['day_time'].max())"
   ]
  },
  {
   "cell_type": "code",
   "execution_count": 127,
   "metadata": {},
   "outputs": [],
   "source": [
    "df_time = df.sort_values(by = ['day_time'])"
   ]
  },
  {
   "cell_type": "code",
   "execution_count": 128,
   "metadata": {},
   "outputs": [
    {
     "data": {
      "text/plain": [
       "42423   2019-09-01 00:00:00\n",
       "22947   2019-09-01 00:01:00\n",
       "62095   2019-09-01 00:01:00\n",
       "29031   2019-09-01 00:01:00\n",
       "8226    2019-09-01 00:01:00\n",
       "                ...        \n",
       "69686   2019-09-07 23:59:00\n",
       "7011    2019-09-07 23:59:00\n",
       "27609   2019-09-07 23:59:00\n",
       "42994   2019-09-07 23:59:00\n",
       "10771   2019-09-07 23:59:00\n",
       "Name: day_time, Length: 80000, dtype: datetime64[ns]"
      ]
     },
     "execution_count": 128,
     "metadata": {},
     "output_type": "execute_result"
    }
   ],
   "source": [
    "df_time['day_time']"
   ]
  },
  {
   "cell_type": "code",
   "execution_count": 129,
   "metadata": {},
   "outputs": [],
   "source": [
    "df_time['date'] = df_time['day_time'].dt.date\n",
    "df_time['hour'] = df_time['day_time'].dt.hour\n",
    "df_by_date_hour = df_time['food_prep_time_minutes'].groupby([df_time['date'],df_time['hour']],\n",
    "                                                            sort = False).mean()"
   ]
  },
  {
   "cell_type": "code",
   "execution_count": 130,
   "metadata": {},
   "outputs": [
    {
     "data": {
      "text/plain": [
       "date        hour\n",
       "2019-09-01  0       23.344828\n",
       "            1       23.388350\n",
       "            2       21.871795\n",
       "            3       21.045455\n",
       "            4       22.265625\n",
       "                      ...    \n",
       "2019-09-07  19      27.554945\n",
       "            20      27.870472\n",
       "            21      25.070981\n",
       "            22      25.313725\n",
       "            23      25.306043\n",
       "Name: food_prep_time_minutes, Length: 168, dtype: float64"
      ]
     },
     "execution_count": 130,
     "metadata": {},
     "output_type": "execute_result"
    }
   ],
   "source": [
    "df_by_date_hour"
   ]
  },
  {
   "cell_type": "code",
   "execution_count": 131,
   "metadata": {},
   "outputs": [
    {
     "data": {
      "image/png": "[encoded data removed]",
      "text/plain": [
       "<Figure size 720x360 with 1 Axes>"
      ]
     },
     "metadata": {
      "needs_background": "light"
     },
     "output_type": "display_data"
    }
   ],
   "source": [
    "figure = plt.figure(figsize=(10,5))\n",
    "df_by_date_hour.plot( color = 'green', linewidth=2)\n",
    "plt.xticks( rotation=90 )\n",
    "plt.ylabel('Per hour food prep time (min)')\n",
    "\n",
    "plt.grid(True)"
   ]
  },
  {
   "cell_type": "code",
   "execution_count": 132,
   "metadata": {},
   "outputs": [
    {
     "data": {
      "text/plain": [
       "Text(0.5, 0, 'Hour')"
      ]
     },
     "execution_count": 132,
     "metadata": {},
     "output_type": "execute_result"
    },
    {
     "data": {
      "image/png": "[encoded data removed]",
      "text/plain": [
       "<Figure size 720x360 with 1 Axes>"
      ]
     },
     "metadata": {
      "needs_background": "light"
     },
     "output_type": "display_data"
    }
   ],
   "source": [
    "%matplotlib inline\n",
    "figure = plt.figure(figsize = (10,5))\n",
    "df_by_hour = df.groupby(df['day_time'].dt.hour , as_index=True).agg({'food_prep_time_minutes': 'mean'})\n",
    "plt.ylim(10,30)\n",
    "plt.bar(range(0,24,1), df_by_hour['food_prep_time_minutes'], align='center')\n",
    "\n",
    "plt.xticks(range(0,24,1), rotation=90)\n",
    "plt.ylabel('Average food prep time (min)')\n",
    "plt.title('Mean food prep time in each hour')\n",
    "plt.xlabel('Hour')\n"
   ]
  },
  {
   "cell_type": "code",
   "execution_count": 133,
   "metadata": {},
   "outputs": [],
   "source": [
    "df_by_weekday = df.groupby(df['day_time'].dt.day_name() , as_index=True).agg({'food_prep_time_minutes': 'mean'})"
   ]
  },
  {
   "cell_type": "code",
   "execution_count": 134,
   "metadata": {},
   "outputs": [
    {
     "data": {
      "text/html": [
       "<div>\n",
       "<style scoped>\n",
       "    .dataframe tbody tr th:only-of-type {\n",
       "        vertical-align: middle;\n",
       "    }\n",
       "\n",
       "    .dataframe tbody tr th {\n",
       "        vertical-align: top;\n",
       "    }\n",
       "\n",
       "    .dataframe thead th {\n",
       "        text-align: right;\n",
       "    }\n",
       "</style>\n",
       "<table border=\"1\" class=\"dataframe\">\n",
       "  <thead>\n",
       "    <tr style=\"text-align: right;\">\n",
       "      <th></th>\n",
       "      <th>food_prep_time_minutes</th>\n",
       "    </tr>\n",
       "    <tr>\n",
       "      <th>day_time</th>\n",
       "      <th></th>\n",
       "    </tr>\n",
       "  </thead>\n",
       "  <tbody>\n",
       "    <tr>\n",
       "      <td>Friday</td>\n",
       "      <td>25.226962</td>\n",
       "    </tr>\n",
       "    <tr>\n",
       "      <td>Monday</td>\n",
       "      <td>25.280056</td>\n",
       "    </tr>\n",
       "    <tr>\n",
       "      <td>Saturday</td>\n",
       "      <td>25.264364</td>\n",
       "    </tr>\n",
       "    <tr>\n",
       "      <td>Sunday</td>\n",
       "      <td>25.372873</td>\n",
       "    </tr>\n",
       "    <tr>\n",
       "      <td>Thursday</td>\n",
       "      <td>25.246000</td>\n",
       "    </tr>\n",
       "    <tr>\n",
       "      <td>Tuesday</td>\n",
       "      <td>25.085990</td>\n",
       "    </tr>\n",
       "    <tr>\n",
       "      <td>Wednesday</td>\n",
       "      <td>25.242083</td>\n",
       "    </tr>\n",
       "  </tbody>\n",
       "</table>\n",
       "</div>"
      ],
      "text/plain": [
       "           food_prep_time_minutes\n",
       "day_time                         \n",
       "Friday                  25.226962\n",
       "Monday                  25.280056\n",
       "Saturday                25.264364\n",
       "Sunday                  25.372873\n",
       "Thursday                25.246000\n",
       "Tuesday                 25.085990\n",
       "Wednesday               25.242083"
      ]
     },
     "execution_count": 134,
     "metadata": {},
     "output_type": "execute_result"
    }
   ],
   "source": [
    "df_by_weekday"
   ]
  },
  {
   "cell_type": "code",
   "execution_count": 135,
   "metadata": {},
   "outputs": [
    {
     "data": {
      "text/html": [
       "<div>\n",
       "<style scoped>\n",
       "    .dataframe tbody tr th:only-of-type {\n",
       "        vertical-align: middle;\n",
       "    }\n",
       "\n",
       "    .dataframe tbody tr th {\n",
       "        vertical-align: top;\n",
       "    }\n",
       "\n",
       "    .dataframe thead th {\n",
       "        text-align: right;\n",
       "    }\n",
       "</style>\n",
       "<table border=\"1\" class=\"dataframe\">\n",
       "  <thead>\n",
       "    <tr style=\"text-align: right;\">\n",
       "      <th></th>\n",
       "      <th>food_prep_time_minutes</th>\n",
       "    </tr>\n",
       "    <tr>\n",
       "      <th>day_time</th>\n",
       "      <th></th>\n",
       "    </tr>\n",
       "  </thead>\n",
       "  <tbody>\n",
       "    <tr>\n",
       "      <td>Sunday</td>\n",
       "      <td>25.372873</td>\n",
       "    </tr>\n",
       "    <tr>\n",
       "      <td>Monday</td>\n",
       "      <td>25.280056</td>\n",
       "    </tr>\n",
       "    <tr>\n",
       "      <td>Tuesday</td>\n",
       "      <td>25.085990</td>\n",
       "    </tr>\n",
       "    <tr>\n",
       "      <td>Wednesday</td>\n",
       "      <td>25.242083</td>\n",
       "    </tr>\n",
       "    <tr>\n",
       "      <td>Thursday</td>\n",
       "      <td>25.246000</td>\n",
       "    </tr>\n",
       "    <tr>\n",
       "      <td>Friday</td>\n",
       "      <td>25.226962</td>\n",
       "    </tr>\n",
       "    <tr>\n",
       "      <td>Saturday</td>\n",
       "      <td>25.264364</td>\n",
       "    </tr>\n",
       "  </tbody>\n",
       "</table>\n",
       "</div>"
      ],
      "text/plain": [
       "           food_prep_time_minutes\n",
       "day_time                         \n",
       "Sunday                  25.372873\n",
       "Monday                  25.280056\n",
       "Tuesday                 25.085990\n",
       "Wednesday               25.242083\n",
       "Thursday                25.246000\n",
       "Friday                  25.226962\n",
       "Saturday                25.264364"
      ]
     },
     "execution_count": 135,
     "metadata": {},
     "output_type": "execute_result"
    }
   ],
   "source": [
    "cats = ['Sunday', 'Monday', 'Tuesday', 'Wednesday', 'Thursday', 'Friday', 'Saturday' ]\n",
    "df_by_weekday = df_by_weekday.reindex(cats)\n",
    "df_by_weekday"
   ]
  },
  {
   "cell_type": "code",
   "execution_count": 136,
   "metadata": {},
   "outputs": [
    {
     "data": {
      "image/png": "[encoded data removed]",
      "text/plain": [
       "<Figure size 504x360 with 1 Axes>"
      ]
     },
     "metadata": {
      "needs_background": "light"
     },
     "output_type": "display_data"
    }
   ],
   "source": [
    "figure = plt.figure(figsize = (7,5))\n",
    "plt.ylim(22,28)\n",
    "n = (['Sun','Mon','Tue','Wed', 'Thu', 'Fri', 'Sat'])\n",
    "plt.plot(n, df_by_weekday['food_prep_time_minutes'], '*-', linewidth=2, color = 'red', markersize=10, fillstyle= 'none')\n",
    "plt.ylabel('Average food prep time (min)')\n",
    "# plt.title('')\n",
    "plt.xlabel('Day of the week')\n",
    "plt.title('Mean food prep time for each day of the week')\n",
    "plt.grid(True)"
   ]
  },
  {
   "cell_type": "code",
   "execution_count": 137,
   "metadata": {},
   "outputs": [
    {
     "data": {
      "text/plain": [
       "Text(0.5, 1.0, 'Total number of orders for each hour')"
      ]
     },
     "execution_count": 137,
     "metadata": {},
     "output_type": "execute_result"
    },
    {
     "data": {
      "image/png": "[encoded data removed]",
      "text/plain": [
       "<Figure size 504x360 with 1 Axes>"
      ]
     },
     "metadata": {
      "needs_background": "light"
     },
     "output_type": "display_data"
    }
   ],
   "source": [
    "figure = plt.figure(figsize=(7,5))\n",
    "sns.countplot(df_time['hour'], label = 'number of orders')\n",
    "plt.title(\"Total number of orders for each hour\")"
   ]
  },
  {
   "cell_type": "markdown",
   "metadata": {},
   "source": [
    "### Feature selection\n"
   ]
  },
  {
   "cell_type": "code",
   "execution_count": 138,
   "metadata": {},
   "outputs": [],
   "source": [
    "df['hour'] = df['day_time'].dt.hour"
   ]
  },
  {
   "cell_type": "code",
   "execution_count": 139,
   "metadata": {},
   "outputs": [
    {
     "data": {
      "text/plain": [
       "dtype('int64')"
      ]
     },
     "execution_count": 139,
     "metadata": {},
     "output_type": "execute_result"
    }
   ],
   "source": [
    "df['hour'].dtype"
   ]
  },
  {
   "cell_type": "code",
   "execution_count": 140,
   "metadata": {},
   "outputs": [],
   "source": [
    "df['hour'] = df['hour'].astype(str)"
   ]
  },
  {
   "cell_type": "code",
   "execution_count": 141,
   "metadata": {},
   "outputs": [
    {
     "data": {
      "text/plain": [
       "dtype('O')"
      ]
     },
     "execution_count": 141,
     "metadata": {},
     "output_type": "execute_result"
    }
   ],
   "source": [
    "df['hour'].dtype"
   ]
  },
  {
   "cell_type": "code",
   "execution_count": 142,
   "metadata": {},
   "outputs": [
    {
     "name": "stdout",
     "output_type": "stream",
     "text": [
      "(80000, 24)\n"
     ]
    },
    {
     "data": {
      "text/html": [
       "<div>\n",
       "<style scoped>\n",
       "    .dataframe tbody tr th:only-of-type {\n",
       "        vertical-align: middle;\n",
       "    }\n",
       "\n",
       "    .dataframe tbody tr th {\n",
       "        vertical-align: top;\n",
       "    }\n",
       "\n",
       "    .dataframe thead th {\n",
       "        text-align: right;\n",
       "    }\n",
       "</style>\n",
       "<table border=\"1\" class=\"dataframe\">\n",
       "  <thead>\n",
       "    <tr style=\"text-align: right;\">\n",
       "      <th></th>\n",
       "      <th>hour_0</th>\n",
       "      <th>hour_1</th>\n",
       "      <th>hour_10</th>\n",
       "      <th>hour_11</th>\n",
       "      <th>hour_12</th>\n",
       "      <th>hour_13</th>\n",
       "      <th>hour_14</th>\n",
       "      <th>hour_15</th>\n",
       "      <th>hour_16</th>\n",
       "      <th>hour_17</th>\n",
       "      <th>...</th>\n",
       "      <th>hour_21</th>\n",
       "      <th>hour_22</th>\n",
       "      <th>hour_23</th>\n",
       "      <th>hour_3</th>\n",
       "      <th>hour_4</th>\n",
       "      <th>hour_5</th>\n",
       "      <th>hour_6</th>\n",
       "      <th>hour_7</th>\n",
       "      <th>hour_8</th>\n",
       "      <th>hour_9</th>\n",
       "    </tr>\n",
       "  </thead>\n",
       "  <tbody>\n",
       "    <tr>\n",
       "      <td>0</td>\n",
       "      <td>0</td>\n",
       "      <td>0</td>\n",
       "      <td>1</td>\n",
       "      <td>0</td>\n",
       "      <td>0</td>\n",
       "      <td>0</td>\n",
       "      <td>0</td>\n",
       "      <td>0</td>\n",
       "      <td>0</td>\n",
       "      <td>0</td>\n",
       "      <td>...</td>\n",
       "      <td>0</td>\n",
       "      <td>0</td>\n",
       "      <td>0</td>\n",
       "      <td>0</td>\n",
       "      <td>0</td>\n",
       "      <td>0</td>\n",
       "      <td>0</td>\n",
       "      <td>0</td>\n",
       "      <td>0</td>\n",
       "      <td>0</td>\n",
       "    </tr>\n",
       "    <tr>\n",
       "      <td>1</td>\n",
       "      <td>0</td>\n",
       "      <td>0</td>\n",
       "      <td>0</td>\n",
       "      <td>0</td>\n",
       "      <td>0</td>\n",
       "      <td>0</td>\n",
       "      <td>0</td>\n",
       "      <td>0</td>\n",
       "      <td>0</td>\n",
       "      <td>0</td>\n",
       "      <td>...</td>\n",
       "      <td>1</td>\n",
       "      <td>0</td>\n",
       "      <td>0</td>\n",
       "      <td>0</td>\n",
       "      <td>0</td>\n",
       "      <td>0</td>\n",
       "      <td>0</td>\n",
       "      <td>0</td>\n",
       "      <td>0</td>\n",
       "      <td>0</td>\n",
       "    </tr>\n",
       "    <tr>\n",
       "      <td>2</td>\n",
       "      <td>0</td>\n",
       "      <td>0</td>\n",
       "      <td>0</td>\n",
       "      <td>0</td>\n",
       "      <td>1</td>\n",
       "      <td>0</td>\n",
       "      <td>0</td>\n",
       "      <td>0</td>\n",
       "      <td>0</td>\n",
       "      <td>0</td>\n",
       "      <td>...</td>\n",
       "      <td>0</td>\n",
       "      <td>0</td>\n",
       "      <td>0</td>\n",
       "      <td>0</td>\n",
       "      <td>0</td>\n",
       "      <td>0</td>\n",
       "      <td>0</td>\n",
       "      <td>0</td>\n",
       "      <td>0</td>\n",
       "      <td>0</td>\n",
       "    </tr>\n",
       "  </tbody>\n",
       "</table>\n",
       "<p>3 rows × 24 columns</p>\n",
       "</div>"
      ],
      "text/plain": [
       "   hour_0  hour_1  hour_10  hour_11  hour_12  hour_13  hour_14  hour_15  \\\n",
       "0       0       0        1        0        0        0        0        0   \n",
       "1       0       0        0        0        0        0        0        0   \n",
       "2       0       0        0        0        1        0        0        0   \n",
       "\n",
       "   hour_16  hour_17  ...  hour_21  hour_22  hour_23  hour_3  hour_4  hour_5  \\\n",
       "0        0        0  ...        0        0        0       0       0       0   \n",
       "1        0        0  ...        1        0        0       0       0       0   \n",
       "2        0        0  ...        0        0        0       0       0       0   \n",
       "\n",
       "   hour_6  hour_7  hour_8  hour_9  \n",
       "0       0       0       0       0  \n",
       "1       0       0       0       0  \n",
       "2       0       0       0       0  \n",
       "\n",
       "[3 rows x 24 columns]"
      ]
     },
     "execution_count": 142,
     "metadata": {},
     "output_type": "execute_result"
    }
   ],
   "source": [
    "dummies = pd.get_dummies(df['hour'], prefix = 'hour')\n",
    "print(dummies.shape)\n",
    "dummies.head(3)"
   ]
  },
  {
   "cell_type": "code",
   "execution_count": 143,
   "metadata": {},
   "outputs": [
    {
     "data": {
      "text/html": [
       "<div>\n",
       "<style scoped>\n",
       "    .dataframe tbody tr th:only-of-type {\n",
       "        vertical-align: middle;\n",
       "    }\n",
       "\n",
       "    .dataframe tbody tr th {\n",
       "        vertical-align: top;\n",
       "    }\n",
       "\n",
       "    .dataframe thead th {\n",
       "        text-align: right;\n",
       "    }\n",
       "</style>\n",
       "<table border=\"1\" class=\"dataframe\">\n",
       "  <thead>\n",
       "    <tr style=\"text-align: right;\">\n",
       "      <th></th>\n",
       "      <th>Teriyaki Steak</th>\n",
       "      <th>Maryland Fried Chicken</th>\n",
       "      <th>Hot Crab Dip</th>\n",
       "      <th>Lemon Squares</th>\n",
       "      <th>Chicken Paprika</th>\n",
       "      <th>Shrimp Pineapple Fried Rice</th>\n",
       "      <th>Easy Oven Baked Potatoes</th>\n",
       "      <th>Chicken With Pineapple</th>\n",
       "      <th>Orange-Poppy Seed Pound Cake</th>\n",
       "      <th>Egg Foo Young</th>\n",
       "      <th>...</th>\n",
       "      <th>hour_21</th>\n",
       "      <th>hour_22</th>\n",
       "      <th>hour_23</th>\n",
       "      <th>hour_3</th>\n",
       "      <th>hour_4</th>\n",
       "      <th>hour_5</th>\n",
       "      <th>hour_6</th>\n",
       "      <th>hour_7</th>\n",
       "      <th>hour_8</th>\n",
       "      <th>hour_9</th>\n",
       "    </tr>\n",
       "  </thead>\n",
       "  <tbody>\n",
       "    <tr>\n",
       "      <td>0</td>\n",
       "      <td>0</td>\n",
       "      <td>0</td>\n",
       "      <td>0</td>\n",
       "      <td>0</td>\n",
       "      <td>0</td>\n",
       "      <td>0</td>\n",
       "      <td>0</td>\n",
       "      <td>0</td>\n",
       "      <td>0</td>\n",
       "      <td>0</td>\n",
       "      <td>...</td>\n",
       "      <td>0</td>\n",
       "      <td>0</td>\n",
       "      <td>0</td>\n",
       "      <td>0</td>\n",
       "      <td>0</td>\n",
       "      <td>0</td>\n",
       "      <td>0</td>\n",
       "      <td>0</td>\n",
       "      <td>0</td>\n",
       "      <td>0</td>\n",
       "    </tr>\n",
       "    <tr>\n",
       "      <td>1</td>\n",
       "      <td>0</td>\n",
       "      <td>1</td>\n",
       "      <td>0</td>\n",
       "      <td>0</td>\n",
       "      <td>0</td>\n",
       "      <td>0</td>\n",
       "      <td>0</td>\n",
       "      <td>1</td>\n",
       "      <td>0</td>\n",
       "      <td>0</td>\n",
       "      <td>...</td>\n",
       "      <td>1</td>\n",
       "      <td>0</td>\n",
       "      <td>0</td>\n",
       "      <td>0</td>\n",
       "      <td>0</td>\n",
       "      <td>0</td>\n",
       "      <td>0</td>\n",
       "      <td>0</td>\n",
       "      <td>0</td>\n",
       "      <td>0</td>\n",
       "    </tr>\n",
       "    <tr>\n",
       "      <td>2</td>\n",
       "      <td>0</td>\n",
       "      <td>0</td>\n",
       "      <td>1</td>\n",
       "      <td>0</td>\n",
       "      <td>0</td>\n",
       "      <td>0</td>\n",
       "      <td>0</td>\n",
       "      <td>0</td>\n",
       "      <td>2</td>\n",
       "      <td>0</td>\n",
       "      <td>...</td>\n",
       "      <td>0</td>\n",
       "      <td>0</td>\n",
       "      <td>0</td>\n",
       "      <td>0</td>\n",
       "      <td>0</td>\n",
       "      <td>0</td>\n",
       "      <td>0</td>\n",
       "      <td>0</td>\n",
       "      <td>0</td>\n",
       "      <td>0</td>\n",
       "    </tr>\n",
       "  </tbody>\n",
       "</table>\n",
       "<p>3 rows × 115 columns</p>\n",
       "</div>"
      ],
      "text/plain": [
       "   Teriyaki Steak  Maryland Fried Chicken  Hot Crab Dip  Lemon Squares  \\\n",
       "0               0                       0             0              0   \n",
       "1               0                       1             0              0   \n",
       "2               0                       0             1              0   \n",
       "\n",
       "   Chicken Paprika  Shrimp Pineapple Fried Rice  Easy Oven Baked Potatoes  \\\n",
       "0                0                            0                         0   \n",
       "1                0                            0                         0   \n",
       "2                0                            0                         0   \n",
       "\n",
       "   Chicken With Pineapple  Orange-Poppy Seed Pound Cake  Egg Foo Young  ...  \\\n",
       "0                       0                             0              0  ...   \n",
       "1                       1                             0              0  ...   \n",
       "2                       0                             2              0  ...   \n",
       "\n",
       "   hour_21  hour_22  hour_23  hour_3  hour_4  hour_5  hour_6  hour_7  hour_8  \\\n",
       "0        0        0        0       0       0       0       0       0       0   \n",
       "1        1        0        0       0       0       0       0       0       0   \n",
       "2        0        0        0       0       0       0       0       0       0   \n",
       "\n",
       "   hour_9  \n",
       "0       0  \n",
       "1       0  \n",
       "2       0  \n",
       "\n",
       "[3 rows x 115 columns]"
      ]
     },
     "execution_count": 143,
     "metadata": {},
     "output_type": "execute_result"
    }
   ],
   "source": [
    "df = pd.concat([df, dummies], axis = 1)\n",
    "df.drop(['hour', 'order_id','day_time'], axis = 1, inplace = True)\n",
    "df.head(3)"
   ]
  },
  {
   "cell_type": "code",
   "execution_count": 144,
   "metadata": {},
   "outputs": [
    {
     "data": {
      "text/plain": [
       "['Teriyaki Steak',\n",
       " 'Maryland Fried Chicken',\n",
       " 'Hot Crab Dip',\n",
       " 'Lemon Squares',\n",
       " 'Chicken Paprika',\n",
       " 'Shrimp Pineapple Fried Rice',\n",
       " 'Easy Oven Baked Potatoes',\n",
       " 'Chicken With Pineapple',\n",
       " 'Orange-Poppy Seed Pound Cake',\n",
       " 'Egg Foo Young',\n",
       " 'Bourbon Balls',\n",
       " 'Old Fashioned Apple Pie',\n",
       " 'Peanut Butter Cookies',\n",
       " 'Sour Cream Raisin Pie',\n",
       " 'Tortilla Soup',\n",
       " 'Three Layer Chocolate Mayonnaise Cake',\n",
       " 'Chinese Fried Rice',\n",
       " 'Lemon Meringue Pie',\n",
       " 'Snickerdoodles',\n",
       " 'Chinese Beef',\n",
       " 'Cucumbers in Sour Cream',\n",
       " 'Cheese Strata',\n",
       " 'Cheesy Fish Fillets with Spinach',\n",
       " 'Garden Vegetable Pasta',\n",
       " 'Chinese Pepper Steak',\n",
       " 'Sweet and Sour Pork',\n",
       " 'Broccoli Cheese Soup',\n",
       " 'Chicken with Artichoke',\n",
       " 'Easy Pasta Bake',\n",
       " 'Cheesy Spinach Bake',\n",
       " 'Garden Quiche',\n",
       " 'Christmas Snowballs',\n",
       " 'Chocolate Crisp Bran Cookies',\n",
       " 'Crazy Crust Pizza',\n",
       " 'Summer Fruit Salad',\n",
       " 'Coq au Vin',\n",
       " 'Hot Water Chocolate Cake',\n",
       " 'Tamale Pie',\n",
       " 'Horseradish Dressing',\n",
       " 'Lemon Cloud Salad',\n",
       " 'Saucy Shrimp Over Chinese Noodle Cakes',\n",
       " \"Saute'd Chicken Breats\",\n",
       " 'Beef Scallops with Fresh Tomato Sauce',\n",
       " 'Mexican Meatball Soup',\n",
       " 'Creamy Zucchini Mushroom Soup',\n",
       " 'Unnamed: 46',\n",
       " 'Pineapple Graham Bars',\n",
       " 'Special Prune Cake*',\n",
       " 'Refrigerator Cheesecake',\n",
       " 'Blackberry Nectarine Pie',\n",
       " 'Two Layer Chocolate Mayonnaise Cake',\n",
       " 'Blueberry Coffee Cake',\n",
       " 'Soft Sugar Cookies',\n",
       " 'Pork Fu Man Chow',\n",
       " 'Fresh Pear Cake',\n",
       " 'The Spinach',\n",
       " 'Zucchini Apple Slaw',\n",
       " 'Pineapple Cake',\n",
       " 'Pie Crust',\n",
       " 'Asparagus Stir-Fried',\n",
       " 'My Best Gingerbread',\n",
       " 'Chocolate Peanut Brunch Bars',\n",
       " '\"Louies\" Linguini with Clam Sauce',\n",
       " 'Creamy Chicken Broccoli with Rice',\n",
       " 'Five Bean Salad',\n",
       " 'Jack Zucchini Chicken',\n",
       " 'Peanut Butter Pie',\n",
       " 'Sitr-Fry Beef and Broccoli',\n",
       " 'Broccoli Cheese Pie',\n",
       " 'Orange Angel Food Cake',\n",
       " 'Strawberry Spice Loaf',\n",
       " 'In a Hurry Chicken Curry',\n",
       " 'Baked Zucchini with Mushrooms',\n",
       " 'Glazed Carrots',\n",
       " 'Fresh Apple Cake',\n",
       " 'Top Ramen Salad',\n",
       " 'Upside Down Cake',\n",
       " 'Peach Almond Pie',\n",
       " 'Impossible Taco Pie',\n",
       " 'Ginger Snap Bars',\n",
       " 'Dutch Apple Pie',\n",
       " 'Veal Parmigan',\n",
       " 'Spinach Salad with Avocado',\n",
       " 'Pea Salad',\n",
       " 'Chili Chicken',\n",
       " 'Eggplant Rollatini',\n",
       " 'Prune Nut Bars',\n",
       " 'Green Beans Salerno',\n",
       " 'Pasta Primavera',\n",
       " 'Savory Chicken Casserole',\n",
       " 'food_prep_time_minutes',\n",
       " 'hour_0',\n",
       " 'hour_1',\n",
       " 'hour_10',\n",
       " 'hour_11',\n",
       " 'hour_12',\n",
       " 'hour_13',\n",
       " 'hour_14',\n",
       " 'hour_15',\n",
       " 'hour_16',\n",
       " 'hour_17',\n",
       " 'hour_18',\n",
       " 'hour_19',\n",
       " 'hour_2',\n",
       " 'hour_20',\n",
       " 'hour_21',\n",
       " 'hour_22',\n",
       " 'hour_23',\n",
       " 'hour_3',\n",
       " 'hour_4',\n",
       " 'hour_5',\n",
       " 'hour_6',\n",
       " 'hour_7',\n",
       " 'hour_8',\n",
       " 'hour_9']"
      ]
     },
     "execution_count": 144,
     "metadata": {},
     "output_type": "execute_result"
    }
   ],
   "source": [
    "list(df.columns)"
   ]
  },
  {
   "cell_type": "markdown",
   "metadata": {},
   "source": [
    "To predict the food preparation time, features were selected as the 90 menu items and the hour of each order was placed. The variable 'hour' was considered as a categorical variable and was encoded into 24 dummy variables. The 'day of the week ' was not considered as a feature variable since there was no any significal different in average food preparation time over the days of the week."
   ]
  },
  {
   "cell_type": "code",
   "execution_count": 145,
   "metadata": {},
   "outputs": [],
   "source": [
    "df.to_csv(\"processed_data.csv\", index=False)"
   ]
  }
 ],
 "metadata": {
  "kernelspec": {
   "display_name": "Python [conda env:MLEnv] *",
   "language": "python",
   "name": "conda-env-MLEnv-py"
  },
  "language_info": {
   "codemirror_mode": {
    "name": "ipython",
    "version": 3
   },
   "file_extension": ".py",
   "mimetype": "text/x-python",
   "name": "python",
   "nbconvert_exporter": "python",
   "pygments_lexer": "ipython3",
   "version": "3.7.4"
  }
 },
 "nbformat": 4,
 "nbformat_minor": 2
}
